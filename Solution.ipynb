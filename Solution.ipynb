import numpy as np
import pandas as pd
import matplotlib.pyplot as plt
from sklearn.preprocessing import MinMaxScaler
from sklearn.metrics import mean_squared_error
from tensorflow.keras.models import Sequential
from tensorflow.keras.layers import LSTM, Dense, Dropout

# Step 1: Dataset Preparation
# Example: Using a simple sine wave as a time series data
def generate_time_series():
    # Generate a sine wave
    t = np.arange(0, 100, 0.1)
    series = np.sin(t) + np.random.randn(len(t)) * 0.1
    return series

# Generate and visualize the time series data
time_series = generate_time_series()
plt.plot(time_series)
plt.title("Generated Time Series Data")
plt.show()

# Preprocess the data
def preprocess_data(data, train_ratio=0.8):
    scaler = MinMaxScaler(feature_range=(0, 1))
    data_normalized = scaler.fit_transform(data.reshape(-1, 1))
    train_size = int(len(data_normalized) * train_ratio)
    train_data, test_data = data_normalized[:train_size], data_normalized[train_size:]
    return train_data, test_data, scaler

train_data, test_data, scaler = preprocess_data(time_series)

# Convert time series data into input features and target labels
def create_sequences(data, seq_length):
    X, y = [], []
    for i in range(len(data) - seq_length):
        X.append(data[i:(i + seq_length)])
        y.append(data[i + seq_length])
    return np.array(X), np.array(y)

seq_length = 10  # Length of input sequences
X_train, y_train = create_sequences(train_data, seq_length)
X_test, y_test = create_sequences(test_data, seq_length)

# Step 2: Model Architecture
model = Sequential([
    LSTM(units=50, return_sequences=True, input_shape=(seq_length, 1)),
    Dropout(0.2),
    LSTM(units=50),
    Dropout(0.2),
    Dense(units=1)
])

# Step 3: Model Training
model.compile(optimizer='adam', loss='mean_squared_error')
history = model.fit(X_train, y_train, epochs=100, batch_size=32, validation_split=0.1, verbose=1)

# Step 4: Model Evaluation
def evaluate_model(model, X_test, y_test, scaler):
    y_pred = model.predict(X_test)
    y_pred_inverse = scaler.inverse_transform(y_pred)
    y_test_inverse = scaler.inverse_transform(y_test.reshape(-1, 1))
    mse = mean_squared_error(y_test_inverse, y_pred_inverse)
    rmse = np.sqrt(mse)
    return rmse, y_pred_inverse

rmse, predictions = evaluate_model(model, X_test, y_test, scaler)
print("Root Mean Squared Error (RMSE):", rmse)

# Step 5: Visualization
plt.figure(figsize=(10, 6))
plt.plot(predictions, label='Predictions')
plt.plot(scaler.inverse_transform(y_test.reshape(-1, 1)), label='Ground Truth')
plt.title('Time Series Forecasting with LSTM')
plt.xlabel('Time')
plt.ylabel('Value')
plt.legend()
plt.show()
