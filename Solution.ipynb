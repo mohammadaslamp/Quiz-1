import pandas as pd

# Download the dataset from the UCI repository
url = "https://archive.ics.uci.edu/ml/machine-learning-databases/00235/household_power_consumption.zip"
energy_data = pd.read_csv(url, sep=";", parse_dates={'DateTime' : ['Date', 'Time']}, infer_datetime_format=True, index_col='DateTime', low_memory=False)

# Display the first few rows of the dataset
energy_data.head()
