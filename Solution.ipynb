import pandas as pd
import numpy as np

# Generate synthetic data for daily stock prices
np.random.seed(0)  # For reproducibility

start_date = '2020-01-01'
end_date = '2021-12-31'
num_days = pd.date_range(start=start_date, end=end_date, freq='D')
num_samples = len(num_days)

# Generate random stock prices
mean_price = 100  # Mean stock price
std_dev = 10  # Standard deviation of stock prices

stock_prices = np.random.normal(mean_price, std_dev, num_samples)

# Create a DataFrame to hold the data
data = {'timestamp': num_days, 'stock_price': stock_prices}
df = pd.DataFrame(data)

# Display the first few rows of the dataset
print("Synthetic Stock Price Dataset:")
print(df.head())

# Save the dataset to a CSV file
df.to_csv('synthetic_stock_prices.csv', index=False)
print("\nDataset saved as synthetic_stock_prices.csv")
