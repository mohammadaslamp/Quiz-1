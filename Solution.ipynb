import pandas as pd
from sklearn.model_selection import train_test_split
from sklearn.preprocessing import MinMaxScaler

# Load the dataset (replace 'stock_prices.csv' with your dataset file)
df = pd.read_csv('stock_prices.csv')

# Display the first few rows of the dataset to understand its structure
print(df.head())

# Preprocessing
scaler = MinMaxScaler()  # Initialize the MinMaxScaler for normalization
# Assuming the dataset has a column 'Close' representing daily closing prices
df['Close_normalized'] = scaler.fit_transform(df[['Close']])

# Split the dataset into training and test sets
# Let's use a simple 80-20 split
train_df, test_df = train_test_split(df, test_size=0.2, shuffle=False)

# Display the shapes of the training and test sets
print("Training set shape:", train_df.shape)
print("Test set shape:", test_df.shape)
