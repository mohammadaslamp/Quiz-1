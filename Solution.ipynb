import numpy as np
import pandas as pd
import matplotlib.pyplot as plt

# Generate synthetic time series data for stock prices
np.random.seed(0)
num_samples = 1000
time = np.arange(num_samples)
trend = 0.1 * time  # linear increasing trend
seasonality = 10 * np.sin(2 * np.pi * time / 50)  # periodic seasonality
noise = np.random.normal(loc=0, scale=1, size=num_samples)  # random noise
stock_prices = trend + seasonality + noise

# Create a pandas DataFrame
df = pd.DataFrame({'Time': time, 'StockPrice': stock_prices})

# Plot the synthetic time series data
plt.figure(figsize=(10, 5))
plt.plot(df['Time'], df['StockPrice'], label='Stock Price')
plt.xlabel('Time')
plt.ylabel('Stock Price')
plt.title('Synthetic Time Series Data')
plt.legend()
plt.grid(True)
plt.show()
